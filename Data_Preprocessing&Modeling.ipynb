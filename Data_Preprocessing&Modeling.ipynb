{
  "nbformat": 4,
  "nbformat_minor": 0,
  "metadata": {
    "colab": {
      "provenance": [],
      "collapsed_sections": [],
      "include_colab_link": true
    },
    "kernelspec": {
      "name": "python3",
      "display_name": "Python 3"
    },
    "language_info": {
      "name": "python"
    },
    "accelerator": "GPU"
  },
  "cells": [
    {
      "cell_type": "markdown",
      "metadata": {
        "id": "view-in-github",
        "colab_type": "text"
      },
      "source": [
        "<a href=\"https://colab.research.google.com/github/heokwon/Dog_Classification/blob/main/Data_Preprocessing%26Modeling.ipynb\" target=\"_parent\"><img src=\"https://colab.research.google.com/assets/colab-badge.svg\" alt=\"Open In Colab\"/></a>"
      ]
    },
    {
      "cell_type": "markdown",
      "source": [
        "# 이미지 불러오기"
      ],
      "metadata": {
        "id": "BP0wylcUU-YZ"
      }
    },
    {
      "cell_type": "code",
      "source": [
        "!mkdir dataset\n",
        "!mkdir dataset/CockerSpaniel_naver\n",
        "!mkdir dataset/Poodle_naver"
      ],
      "metadata": {
        "id": "jmUAx-nSVGpN",
        "colab": {
          "base_uri": "https://localhost:8080/"
        },
        "outputId": "3d8f01c2-46ca-4504-ade9-c42a37e012df"
      },
      "execution_count": null,
      "outputs": [
        {
          "output_type": "stream",
          "name": "stdout",
          "text": [
            "mkdir: cannot create directory ‘dataset’: File exists\n",
            "mkdir: cannot create directory ‘dataset/CockerSpaniel_naver’: File exists\n",
            "mkdir: cannot create directory ‘dataset/Poodle_naver’: File exists\n"
          ]
        }
      ]
    },
    {
      "cell_type": "code",
      "source": [
        "from google.colab import drive\n",
        "drive.mount('/content/drive')"
      ],
      "metadata": {
        "colab": {
          "base_uri": "https://localhost:8080/"
        },
        "id": "jFJ3G_d8XIol",
        "outputId": "1b61d018-6a6c-4686-e6bd-193f10627bce"
      },
      "execution_count": null,
      "outputs": [
        {
          "output_type": "stream",
          "name": "stdout",
          "text": [
            "Mounted at /content/drive\n"
          ]
        }
      ]
    },
    {
      "cell_type": "code",
      "source": [
        "import os # 경로를 컨트롤 할 때 쓰이는 library \n",
        "import cv2 # 이미지 처리를 위한 library\n",
        "\n",
        "import numpy as np\n",
        "from matplotlib import pyplot as plt\n",
        "import matplotlib.cm as cm\n",
        "\n",
        "import tensorflow as tf\n",
        "\n",
        "import pickle\n",
        "from tqdm.notebook import tqdm"
      ],
      "metadata": {
        "id": "z-41jFxoVAiP"
      },
      "execution_count": null,
      "outputs": []
    },
    {
      "cell_type": "code",
      "source": [
        "data_path = '/content/drive/MyDrive/Colab Notebooks/4조 이미지인식(미니프로젝트)/전처리 전' # 경로를 가져옴 / 문자열=만들어둔 폴더의 경로\n",
        "os.listdir(data_path) # 해당 path의 폴더 하위 목록들을 뽑아옴 > label"
      ],
      "metadata": {
        "colab": {
          "base_uri": "https://localhost:8080/"
        },
        "id": "gb-wO_EuVdb8",
        "outputId": "ba13b48d-053c-4277-8b80-28f8d63ba797"
      },
      "execution_count": null,
      "outputs": [
        {
          "output_type": "execute_result",
          "data": {
            "text/plain": [
              "['Poodle', 'CockerSpaniel']"
            ]
          },
          "metadata": {},
          "execution_count": 4
        }
      ]
    },
    {
      "cell_type": "markdown",
      "source": [
        "# Crawling data pickle파일 병합"
      ],
      "metadata": {
        "id": "RuBt0WhfVhov"
      }
    },
    {
      "cell_type": "code",
      "source": [
        "with open('/content/drive/MyDrive/Colab Notebooks/국비지원수업(K-digital)/프로젝트/강아지품종예측(이미지 인식 프로젝트)/전처리(완료)/코카,푸들(이미지).pickle','rb') as f:\n",
        "  co_data = pickle.load(f)\n",
        "with open('/content/drive/MyDrive/Colab Notebooks/국비지원수업(K-digital)/프로젝트/강아지품종예측(이미지 인식 프로젝트)/전처리(완료)/코카,푸들(라벨).pickle','rb') as f:\n",
        "  co_label = pickle.load(f)\n",
        "\n",
        "with open('/content/drive/MyDrive/Colab Notebooks/국비지원수업(K-digital)/프로젝트/강아지품종예측(이미지 인식 프로젝트)/전처리(완료)/말티즈,그레이하운드(이미지).pickle','rb') as f:\n",
        "  mal_data = pickle.load(f)\n",
        "with open('/content/drive/MyDrive/Colab Notebooks/국비지원수업(K-digital)/프로젝트/강아지품종예측(이미지 인식 프로젝트)/전처리(완료)/말티즈,그레이하운드(라벨).pickle','rb') as f:\n",
        "  mal_label = pickle.load(f)\n",
        "\n",
        "with open('/content/drive/MyDrive/Colab Notebooks/국비지원수업(K-digital)/프로젝트/강아지품종예측(이미지 인식 프로젝트)/전처리(완료)/퍼그,비숑(이미지).pickle','rb') as f:\n",
        "  pug_data = pickle.load(f)\n",
        "with open('/content/drive/MyDrive/Colab Notebooks/국비지원수업(K-digital)/프로젝트/강아지품종예측(이미지 인식 프로젝트)/전처리(완료)/퍼그,비송(라벨).pickle','rb') as f:\n",
        "  pug_label = pickle.load(f)\n",
        "\n",
        "with open('/content/drive/MyDrive/Colab Notebooks/국비지원수업(K-digital)/프로젝트/강아지품종예측(이미지 인식 프로젝트)/전처리(완료)/이미지데이터.pickle','rb') as f:\n",
        "  img_data = pickle.load(f)\n",
        "with open('/content/drive/MyDrive/Colab Notebooks/국비지원수업(K-digital)/프로젝트/강아지품종예측(이미지 인식 프로젝트)/전처리(완료)/라벨데이터.pickle','rb') as f:\n",
        "  label_label = pickle.load(f)\n",
        "\n",
        "with open('/content/drive/MyDrive/Colab Notebooks/국비지원수업(K-digital)/프로젝트/강아지품종예측(이미지 인식 프로젝트)/전처리(완료)/코기,인절미,포메(이미지).pickle','rb') as f:\n",
        "  cogi_data = pickle.load(f)\n",
        "with open('/content/drive/MyDrive/Colab Notebooks/국비지원수업(K-digital)/프로젝트/강아지품종예측(이미지 인식 프로젝트)/전처리(완료)/코기,인절미,포메(라벨).pickle','rb') as f:\n",
        "  cogi_label = pickle.load(f)"
      ],
      "metadata": {
        "id": "PICeNi80Vgrk"
      },
      "execution_count": null,
      "outputs": []
    },
    {
      "cell_type": "code",
      "source": [
        "data = np.concatenate([co_data,mal_data,pug_data,img_data,cogi_data])\n",
        "label = np.concatenate([co_label,mal_label,pug_label,label_label,cogi_label])"
      ],
      "metadata": {
        "id": "HtsdrXnrVq9h"
      },
      "execution_count": null,
      "outputs": []
    },
    {
      "cell_type": "code",
      "source": [
        "data = tf.repeat(data,3,axis=3)\n",
        "data.shape"
      ],
      "metadata": {
        "id": "4JDTNyXwVvC-"
      },
      "execution_count": null,
      "outputs": []
    },
    {
      "cell_type": "code",
      "source": [
        "import pickle\n",
        "with open('data.pickle', 'wb') as f:\n",
        "    pickle.dump(data, f)\n",
        "with open('label.pickle', 'wb') as f:\n",
        "    pickle.dump(label, f)"
      ],
      "metadata": {
        "id": "rYbk6rsRVwpk"
      },
      "execution_count": null,
      "outputs": []
    },
    {
      "cell_type": "markdown",
      "source": [
        "## 전처리"
      ],
      "metadata": {
        "id": "IVgvTSi5Fs9l"
      }
    },
    {
      "cell_type": "code",
      "source": [
        "dataset = {}\n",
        "\n",
        "# 이미지와 라벨 리스트에 담기\n",
        "for label in os.listdir(data_path): # 폴더 \n",
        "    sub_path = '/content/drive/MyDrive/Colab Notebooks/4조 이미지인식(미니프로젝트)/전처리 전/'+label+'/' \n",
        "    dataset[label] = [] # 빈 dict의 key값을 label로\n",
        "    for filename in os.listdir(sub_path):\n",
        "        dataset[label].append(sub_path+filename) # key값에 해당하는 사진 경로들과 파일명을 추가\n",
        "\n",
        "dataset"
      ],
      "metadata": {
        "id": "-p5qZJwOVEKi"
      },
      "execution_count": null,
      "outputs": []
    },
    {
      "cell_type": "code",
      "source": [
        "a = np.array([[0]])\n",
        "a"
      ],
      "metadata": {
        "colab": {
          "base_uri": "https://localhost:8080/"
        },
        "id": "uT1IMr1sfg-u",
        "outputId": "2f4f3aba-c095-494f-d62b-f531e7d2cc18"
      },
      "execution_count": null,
      "outputs": [
        {
          "output_type": "execute_result",
          "data": {
            "text/plain": [
              "array([[0]])"
            ]
          },
          "metadata": {},
          "execution_count": 6
        }
      ]
    },
    {
      "cell_type": "code",
      "source": [
        "np.array([a, a])"
      ],
      "metadata": {
        "colab": {
          "base_uri": "https://localhost:8080/"
        },
        "id": "hB-ym3yLfkZd",
        "outputId": "19b9f639-5e91-44d5-f72f-dc72d5f46e6a"
      },
      "execution_count": null,
      "outputs": [
        {
          "output_type": "execute_result",
          "data": {
            "text/plain": [
              "array([[[0]],\n",
              "\n",
              "       [[0]]])"
            ]
          },
          "metadata": {},
          "execution_count": 7
        }
      ]
    },
    {
      "cell_type": "code",
      "source": [
        "x_datasets, y_datasets = [], []\n",
        "\n",
        "label2index = {'Poodle' : 2, 'CockerSpaniel' : 1}\n",
        "\n",
        "for label, filenames in dataset.items():\n",
        "    for filename in filenames:\n",
        "        # img를 array 형태로 변경\n",
        "        image = cv2.imread(filename) # filename에 대해 이미지를 load\n",
        "        resize = lambda x: tf.image.resize(x, (224, 224)) # 크롤링 한 이미지의 크기를 resize를 통해 맞춰줌 // resize함수 만들어서 사용\n",
        "        image = resize(image)\n",
        "        x_datasets.append(image)\n",
        "\n",
        "        # label을 index로 변경\n",
        "        y_datasets.append(label2index[label]) # label2index를 통해 변경\n",
        "x_datasets, y_datasets # 이미지가 리스트로 저장. 마지막 y_data에 1,1,1,0,0,0"
      ],
      "metadata": {
        "id": "qZpYCfFEWqhe"
      },
      "execution_count": null,
      "outputs": []
    },
    {
      "cell_type": "code",
      "source": [
        "x_datasets[1].shape"
      ],
      "metadata": {
        "id": "lZHuW1iCofaW"
      },
      "execution_count": null,
      "outputs": []
    },
    {
      "cell_type": "code",
      "source": [
        "x_datasets = np.array(x_datasets) # list를 array로 형변환\n",
        "x_datasets.shape"
      ],
      "metadata": {
        "colab": {
          "base_uri": "https://localhost:8080/"
        },
        "id": "PxqGH5d-jSJm",
        "outputId": "3168e22b-172c-4bf8-abd4-0a7dd3baa270"
      },
      "execution_count": null,
      "outputs": [
        {
          "output_type": "execute_result",
          "data": {
            "text/plain": [
              "(1076, 224, 224, 3)"
            ]
          },
          "metadata": {},
          "execution_count": 10
        }
      ]
    },
    {
      "cell_type": "code",
      "source": [
        "y_datasets = np.array(y_datasets)\n",
        "y_datasets"
      ],
      "metadata": {
        "colab": {
          "base_uri": "https://localhost:8080/"
        },
        "id": "iYdn2LkIjX8N",
        "outputId": "da88175d-312c-488f-a940-73f109f231fa"
      },
      "execution_count": null,
      "outputs": [
        {
          "output_type": "execute_result",
          "data": {
            "text/plain": [
              "array([2, 2, 2, ..., 1, 1, 1])"
            ]
          },
          "metadata": {},
          "execution_count": 11
        }
      ]
    },
    {
      "cell_type": "code",
      "source": [
        "y_datasets.shape"
      ],
      "metadata": {
        "colab": {
          "base_uri": "https://localhost:8080/"
        },
        "id": "hkTTmyW_6Pn8",
        "outputId": "98220189-3462-4210-92a5-d5631b44bada"
      },
      "execution_count": null,
      "outputs": [
        {
          "output_type": "execute_result",
          "data": {
            "text/plain": [
              "(1076,)"
            ]
          },
          "metadata": {},
          "execution_count": 12
        }
      ]
    },
    {
      "cell_type": "code",
      "source": [
        "np.mean(x_datasets[0], axis=0)"
      ],
      "metadata": {
        "id": "X7niL54Unn7G"
      },
      "execution_count": null,
      "outputs": []
    },
    {
      "cell_type": "code",
      "source": [
        "# zero-centering, grayscale >> 전처리\n",
        "def preprocess(image, grayscale=False):\n",
        "    # zero-centering : 평균값으로 빼줌\n",
        "    image -= np.mean(image, axis=0) # 채널단위로 평균을 냄 >> 평균값으로 위치에 있는 애들을 빼줌 >> 평균값을 빼줌으로써 범위 스케일링해줌\n",
        "                                    # zero-centering : 한쪽으로 편항되는 것을 안정화 시키기 위해서 사용\n",
        "    \n",
        "    # grayscale : 좀 더 단순화/ rgb(color) 3채널을 흑백 1채널로\n",
        "    if grayscale:\n",
        "        image = tf.image.rgb_to_grayscale(image)\n",
        "    return np.array(image)"
      ],
      "metadata": {
        "id": "_9kuc3HPZDFO"
      },
      "execution_count": null,
      "outputs": []
    },
    {
      "cell_type": "code",
      "source": [
        "x_datasets = preprocess(x_datasets, grayscale=True)"
      ],
      "metadata": {
        "id": "vFe5DQG5YqjV"
      },
      "execution_count": null,
      "outputs": []
    },
    {
      "cell_type": "code",
      "source": [
        "plt.imshow(x_datasets[0][:,:,0], cmap='gray')\n",
        "plt.show()"
      ],
      "metadata": {
        "colab": {
          "base_uri": "https://localhost:8080/",
          "height": 269
        },
        "id": "Z0S7CoKuq6iW",
        "outputId": "beb3abfc-73a3-48b3-d0bb-5cc4c83508e0"
      },
      "execution_count": null,
      "outputs": [
        {
          "output_type": "display_data",
          "data": {
            "text/plain": [
              "<Figure size 432x288 with 1 Axes>"
            ],
            "image/png": "[encoded data removed]"
          },
          "metadata": {
            "needs_background": "light"
          }
        }
      ]
    },
    {
      "cell_type": "markdown",
      "source": [
        "## piclke로 저장"
      ],
      "metadata": {
        "id": "J0yf5mcXsDCd"
      }
    },
    {
      "cell_type": "code",
      "source": [
        "with open('x_dataset.pickle', 'wb') as f:\n",
        "    pickle.dump(x_datasets, f)"
      ],
      "metadata": {
        "id": "SMbWksHsm_xc"
      },
      "execution_count": null,
      "outputs": []
    },
    {
      "cell_type": "code",
      "source": [
        "with open('y_dataset.pickle', 'wb') as f:\n",
        "    pickle.dump(y_datasets, f)"
      ],
      "metadata": {
        "id": "JZ7dgesltTl8"
      },
      "execution_count": null,
      "outputs": []
    },
    {
      "cell_type": "markdown",
      "source": [
        "## 학습용,검증용 나누기"
      ],
      "metadata": {
        "id": "xLX8kvnthKrc"
      }
    },
    {
      "cell_type": "markdown",
      "source": [
        "3차원 데이터를 resizing하는데 Ram이 부족, 1차원에서 resizing하고난 뒤 3차원으로 repeat시켜주는 방법으로 해결"
      ],
      "metadata": {
        "id": "FWrBf81uxNJl"
      }
    },
    {
      "cell_type": "code",
      "source": [
        "with open('/content/drive/MyDrive/Colab Notebooks/4조 이미지인식(미니프로젝트)/data.pickle','rb') as f:\n",
        "  data = pickle.load(f)\n",
        "with open('/content/drive/MyDrive/Colab Notebooks/4조 이미지인식(미니프로젝트)/label.pickle','rb') as f:\n",
        "  label = pickle.load(f)"
      ],
      "metadata": {
        "id": "KvnRHJSpNw5l"
      },
      "execution_count": null,
      "outputs": []
    },
    {
      "cell_type": "code",
      "source": [
        "from sklearn.model_selection import train_test_split"
      ],
      "metadata": {
        "id": "6G6Q5pQtci9C"
      },
      "execution_count": null,
      "outputs": []
    },
    {
      "cell_type": "markdown",
      "source": [
        "label에 1이 빠진것이 아니라 순서가 바껴있는상태, 모든 라벨들이 정상적으로 들어가있다"
      ],
      "metadata": {
        "id": "FyQKSAM39djw"
      }
    },
    {
      "cell_type": "code",
      "source": [
        "label"
      ],
      "metadata": {
        "colab": {
          "base_uri": "https://localhost:8080/"
        },
        "id": "i8Vt5oX79jkf",
        "outputId": "fa93457c-065f-4f3a-8adf-6a2f1a774279"
      },
      "execution_count": null,
      "outputs": [
        {
          "output_type": "execute_result",
          "data": {
            "text/plain": [
              "array([ 2,  2,  2, ..., 14, 14, 14])"
            ]
          },
          "metadata": {},
          "execution_count": 5
        }
      ]
    },
    {
      "cell_type": "markdown",
      "source": [
        "원래의 label에 0이 없는상태. 컴퓨터는 0부터 받기 때문에 모든 라벨값이 -1을 해줌으로써 1-14 라벨을 0-13으로 바꿔줌 "
      ],
      "metadata": {
        "id": "y97S0s0w9sDo"
      }
    },
    {
      "cell_type": "code",
      "source": [
        "label -= 1\n",
        "label"
      ],
      "metadata": {
        "colab": {
          "base_uri": "https://localhost:8080/"
        },
        "id": "IOQxNkXTc82s",
        "outputId": "18c91c07-6262-4fc9-c199-79c887d0e636"
      },
      "execution_count": null,
      "outputs": [
        {
          "output_type": "execute_result",
          "data": {
            "text/plain": [
              "array([ 1,  1,  1, ..., 13, 13, 13])"
            ]
          },
          "metadata": {},
          "execution_count": 6
        }
      ]
    },
    {
      "cell_type": "code",
      "source": [
        "train_data, test_data , train_label,test_label = train_test_split(data,label, test_size=0.2,stratify=label,random_state=34)"
      ],
      "metadata": {
        "id": "RWLKALZydpYj"
      },
      "execution_count": null,
      "outputs": []
    },
    {
      "cell_type": "code",
      "source": [
        "train_data.shape"
      ],
      "metadata": {
        "colab": {
          "base_uri": "https://localhost:8080/"
        },
        "id": "bPcjwhl5lQJe",
        "outputId": "266eedf9-e9c7-4d39-fced-cf8f9702a9f1"
      },
      "execution_count": null,
      "outputs": [
        {
          "output_type": "execute_result",
          "data": {
            "text/plain": [
              "(9031, 224, 224, 1)"
            ]
          },
          "metadata": {},
          "execution_count": 8
        }
      ]
    },
    {
      "cell_type": "markdown",
      "source": [
        "## 이미지 크기 줄이기(resizing)\n",
        "224x224 데이터값이 너무 커 런타임실행이 안됨"
      ],
      "metadata": {
        "id": "hyYsjVEmyROr"
      }
    },
    {
      "cell_type": "code",
      "source": [
        "resize = lambda x: tf.image.resize(x, (180, 180))\n",
        "# 이미지 크기 줄이는 또 다른 방법\n",
        "# 0-224 사이의 숫자로 되어있는 이미지를 slicing을 통해 크기조절\n",
        "# [:,42:182, 42:182] : array를 42:182로 슬라이싱하는 것을 (:) 모든 이미지 데이터에 적용\n",
        "# train_data = train_data[:,42:182, 42:182]\n",
        "# test_data = test_data[:,42:182, 42:182]"
      ],
      "metadata": {
        "id": "ZD7CtBbdhhpq"
      },
      "execution_count": null,
      "outputs": []
    },
    {
      "cell_type": "code",
      "source": [
        "train_data = resize(train_data)\n",
        "train_data.shape"
      ],
      "metadata": {
        "colab": {
          "base_uri": "https://localhost:8080/"
        },
        "id": "esJ9yF__pfUF",
        "outputId": "68a97dcf-492d-43a7-f01c-31ff6a8e7ccf"
      },
      "execution_count": null,
      "outputs": [
        {
          "output_type": "execute_result",
          "data": {
            "text/plain": [
              "TensorShape([9031, 180, 180, 1])"
            ]
          },
          "metadata": {},
          "execution_count": 10
        }
      ]
    },
    {
      "cell_type": "code",
      "source": [
        "test_data = resize(test_data)\n",
        "test_data.shape"
      ],
      "metadata": {
        "colab": {
          "base_uri": "https://localhost:8080/"
        },
        "id": "1XUqsHc3fmxn",
        "outputId": "505d25b8-ab0e-435e-b309-36ece737ae65"
      },
      "execution_count": null,
      "outputs": [
        {
          "output_type": "execute_result",
          "data": {
            "text/plain": [
              "TensorShape([2258, 180, 180, 1])"
            ]
          },
          "metadata": {},
          "execution_count": 11
        }
      ]
    },
    {
      "cell_type": "code",
      "source": [
        "# 1차원 >> 3차원\n",
        "train_data = tf.repeat(train_data,3,axis=3)\n",
        "test_data = tf.repeat(test_data,3,axis=3)\n"
      ],
      "metadata": {
        "id": "wrguIEpueWww"
      },
      "execution_count": null,
      "outputs": []
    },
    {
      "cell_type": "code",
      "source": [
        "train_data.shape"
      ],
      "metadata": {
        "colab": {
          "base_uri": "https://localhost:8080/"
        },
        "id": "cEBzgIEyhp9N",
        "outputId": "0f7470fe-e6b2-42fd-96a4-b650803aa9ad"
      },
      "execution_count": null,
      "outputs": [
        {
          "output_type": "execute_result",
          "data": {
            "text/plain": [
              "TensorShape([9031, 180, 180, 3])"
            ]
          },
          "metadata": {},
          "execution_count": 13
        }
      ]
    },
    {
      "cell_type": "code",
      "source": [
        "test_data.shape"
      ],
      "metadata": {
        "colab": {
          "base_uri": "https://localhost:8080/"
        },
        "id": "fyYQ7tKxpqLH",
        "outputId": "2a7bd2d0-f29d-41ad-b34f-a2cc61b6a4c9"
      },
      "execution_count": null,
      "outputs": [
        {
          "output_type": "execute_result",
          "data": {
            "text/plain": [
              "TensorShape([2258, 180, 180, 3])"
            ]
          },
          "metadata": {},
          "execution_count": 14
        }
      ]
    },
    {
      "cell_type": "markdown",
      "source": [
        "## 미세조정"
      ],
      "metadata": {
        "id": "s90oXhfSgAvk"
      }
    },
    {
      "cell_type": "code",
      "source": [
        "import tensorflow as tf\n",
        "from tensorflow.keras.applications.resnet50 import ResNet50\n",
        "from tensorflow.keras import datasets, layers, models\n",
        "\n",
        "from tensorflow.keras.layers import Dense, Flatten, MaxPooling2D\n",
        "from tensorflow.keras import Input\n",
        "from tensorflow.keras.layers import Dropout, BatchNormalization\n",
        "\n",
        "import matplotlib.pyplot as plt"
      ],
      "metadata": {
        "id": "VXnDWcsnf5pv"
      },
      "execution_count": null,
      "outputs": []
    },
    {
      "cell_type": "code",
      "source": [
        "back_model = ResNet50(include_top=False, input_shape = (180,180 ,3), weights = 'imagenet')\n",
        "back_model.trainable = False\n",
        "\n",
        "for layer in back_model.layers[-12:]:\n",
        "  layer.trainable = True\n",
        "\n",
        "inputs = tf.keras.Input(shape=(180,180,3))\n",
        "\n",
        "x = back_model(inputs, training=False)\n",
        "\n",
        "# FC층 학습\n",
        "x = tf.keras.layers.Flatten()(x)\n",
        "x = tf.keras.layers.Dense(128,activation='relu')(x)\n",
        "x = tf.keras.layers.Dropout(0.5)(x)\n",
        "outputs = tf.keras.layers.Dense(14,activation='softmax')(x)\n",
        "\n",
        "model = tf.keras.Model(inputs,outputs)\n",
        "model.compile(optimizer = tf.keras.optimizers.Adam( learning_rate= 0.0001),\n",
        "                loss = 'sparse_categorical_crossentropy',\n",
        "                metrics=['accuracy'])"
      ],
      "metadata": {
        "colab": {
          "base_uri": "https://localhost:8080/"
        },
        "id": "wBezNz_qfpqs",
        "outputId": "1ecc157a-bb40-49ce-d60b-20f932393dfa"
      },
      "execution_count": null,
      "outputs": [
        {
          "output_type": "stream",
          "name": "stdout",
          "text": [
            "Downloading data from https://storage.googleapis.com/tensorflow/keras-applications/resnet/resnet50_weights_tf_dim_ordering_tf_kernels_notop.h5\n",
            "94773248/94765736 [==============================] - 1s 0us/step\n",
            "94781440/94765736 [==============================] - 1s 0us/step\n"
          ]
        }
      ]
    },
    {
      "cell_type": "code",
      "source": [
        "model.fit(train_data,train_label, epochs=10,validation_data=(test_data, test_label),batch_size=100)"
      ],
      "metadata": {
        "colab": {
          "base_uri": "https://localhost:8080/"
        },
        "id": "cP9Pu4PefyBu",
        "outputId": "bd08191b-c7dd-4bd1-f0df-6cb747ea02cf"
      },
      "execution_count": null,
      "outputs": [
        {
          "output_type": "stream",
          "name": "stdout",
          "text": [
            "Epoch 1/10\n",
            "91/91 [==============================] - 68s 574ms/step - loss: 1.5940 - accuracy: 0.5348 - val_loss: 0.7692 - val_accuracy: 0.7724\n",
            "Epoch 2/10\n",
            "91/91 [==============================] - 48s 529ms/step - loss: 0.8393 - accuracy: 0.7378 - val_loss: 0.6240 - val_accuracy: 0.8078\n",
            "Epoch 3/10\n",
            "91/91 [==============================] - 48s 530ms/step - loss: 0.6241 - accuracy: 0.7940 - val_loss: 0.6052 - val_accuracy: 0.8211\n",
            "Epoch 4/10\n",
            "91/91 [==============================] - 48s 530ms/step - loss: 0.5036 - accuracy: 0.8327 - val_loss: 0.6040 - val_accuracy: 0.8330\n",
            "Epoch 5/10\n",
            "91/91 [==============================] - 48s 530ms/step - loss: 0.3763 - accuracy: 0.8693 - val_loss: 0.5875 - val_accuracy: 0.8322\n",
            "Epoch 6/10\n",
            "91/91 [==============================] - 48s 530ms/step - loss: 0.3345 - accuracy: 0.8834 - val_loss: 0.6589 - val_accuracy: 0.8335\n",
            "Epoch 7/10\n",
            "91/91 [==============================] - 48s 530ms/step - loss: 0.2719 - accuracy: 0.9057 - val_loss: 0.6577 - val_accuracy: 0.8344\n",
            "Epoch 8/10\n",
            "91/91 [==============================] - 48s 530ms/step - loss: 0.2446 - accuracy: 0.9131 - val_loss: 0.6133 - val_accuracy: 0.8388\n",
            "Epoch 9/10\n",
            "91/91 [==============================] - 48s 530ms/step - loss: 0.2125 - accuracy: 0.9285 - val_loss: 0.7033 - val_accuracy: 0.8348\n",
            "Epoch 10/10\n",
            "91/91 [==============================] - 48s 529ms/step - loss: 0.1923 - accuracy: 0.9307 - val_loss: 0.6944 - val_accuracy: 0.8388\n"
          ]
        },
        {
          "output_type": "execute_result",
          "data": {
            "text/plain": [
              "<keras.callbacks.History at 0x7f1ab8de01d0>"
            ]
          },
          "metadata": {},
          "execution_count": 17
        }
      ]
    },
    {
      "cell_type": "code",
      "source": [
        "## fine-tune\n",
        "back_model.trainable = True # bottlenect feature 학습진행한다\n",
        "\n",
        "model.compile(optimizer = tf.keras.optimizers.Adam( learning_rate= 0.0001),\n",
        "                loss = 'sparse_categorical_crossentropy',\n",
        "                metrics=['accuracy'])\n",
        "\n",
        "model.fit(train_data, train_label, epochs = 5, validation_data=(test_data, test_label), batch_size= 50)"
      ],
      "metadata": {
        "colab": {
          "base_uri": "https://localhost:8080/"
        },
        "id": "zk24NeV-gNKB",
        "outputId": "9411617d-8643-4213-b8c2-c8af633bc3f7"
      },
      "execution_count": null,
      "outputs": [
        {
          "output_type": "stream",
          "name": "stdout",
          "text": [
            "Epoch 1/5\n",
            "181/181 [==============================] - 165s 854ms/step - loss: 0.7281 - accuracy: 0.7822 - val_loss: 0.5540 - val_accuracy: 0.8295\n",
            "Epoch 2/5\n",
            "181/181 [==============================] - 152s 839ms/step - loss: 0.3949 - accuracy: 0.8770 - val_loss: 0.4628 - val_accuracy: 0.8574\n",
            "Epoch 3/5\n",
            "181/181 [==============================] - 162s 895ms/step - loss: 0.2889 - accuracy: 0.9099 - val_loss: 0.4233 - val_accuracy: 0.8773\n",
            "Epoch 4/5\n",
            "181/181 [==============================] - 152s 838ms/step - loss: 0.1982 - accuracy: 0.9377 - val_loss: 0.5692 - val_accuracy: 0.8508\n",
            "Epoch 5/5\n",
            "181/181 [==============================] - 152s 838ms/step - loss: 0.1448 - accuracy: 0.9526 - val_loss: 0.6579 - val_accuracy: 0.8330\n"
          ]
        },
        {
          "output_type": "execute_result",
          "data": {
            "text/plain": [
              "<keras.callbacks.History at 0x7f1975911510>"
            ]
          },
          "metadata": {},
          "execution_count": 18
        }
      ]
    },
    {
      "cell_type": "markdown",
      "source": [
        "180x180 일때 0.84"
      ],
      "metadata": {
        "id": "CyLuErNNyZjF"
      }
    },
    {
      "cell_type": "markdown",
      "source": [
        "## 하위층 일부 재학습"
      ],
      "metadata": {
        "id": "IEeNohVTz5lE"
      }
    },
    {
      "cell_type": "code",
      "source": [
        "base_model = ResNet50(include_top=False, input_shape=(180,180,3))"
      ],
      "metadata": {
        "id": "KlBFUzEvz9Au"
      },
      "execution_count": null,
      "outputs": []
    },
    {
      "cell_type": "code",
      "source": [
        "len(base_model.layers)"
      ],
      "metadata": {
        "colab": {
          "base_uri": "https://localhost:8080/"
        },
        "id": "QLF5ttC50grM",
        "outputId": "c28bb7f7-1880-44b0-8d76-354197131782"
      },
      "execution_count": null,
      "outputs": [
        {
          "output_type": "execute_result",
          "data": {
            "text/plain": [
              "175"
            ]
          },
          "metadata": {},
          "execution_count": 20
        }
      ]
    },
    {
      "cell_type": "code",
      "source": [
        "base_model.trainable = False\n",
        "base_model.trainable"
      ],
      "metadata": {
        "colab": {
          "base_uri": "https://localhost:8080/"
        },
        "id": "_vdPAYZu01wW",
        "outputId": "6f689acb-6495-43da-8f32-1cda30073d5d"
      },
      "execution_count": null,
      "outputs": [
        {
          "output_type": "execute_result",
          "data": {
            "text/plain": [
              "False"
            ]
          },
          "metadata": {},
          "execution_count": 21
        }
      ]
    },
    {
      "cell_type": "code",
      "source": [
        "for layer in base_model.layers[-10:]:\n",
        "  layer.trainable = True\n",
        "for layer in base_model.layers[-20:]:\n",
        "  print(layer.name, layer.trainable)"
      ],
      "metadata": {
        "colab": {
          "base_uri": "https://localhost:8080/"
        },
        "id": "sfjCBkg-073s",
        "outputId": "9bb42ef1-5f5f-4904-fc85-18e56609d0bf"
      },
      "execution_count": null,
      "outputs": [
        {
          "output_type": "stream",
          "name": "stdout",
          "text": [
            "conv5_block2_1_conv False\n",
            "conv5_block2_1_bn False\n",
            "conv5_block2_1_relu False\n",
            "conv5_block2_2_conv False\n",
            "conv5_block2_2_bn False\n",
            "conv5_block2_2_relu False\n",
            "conv5_block2_3_conv False\n",
            "conv5_block2_3_bn False\n",
            "conv5_block2_add False\n",
            "conv5_block2_out False\n",
            "conv5_block3_1_conv True\n",
            "conv5_block3_1_bn True\n",
            "conv5_block3_1_relu True\n",
            "conv5_block3_2_conv True\n",
            "conv5_block3_2_bn True\n",
            "conv5_block3_2_relu True\n",
            "conv5_block3_3_conv True\n",
            "conv5_block3_3_bn True\n",
            "conv5_block3_add True\n",
            "conv5_block3_out True\n"
          ]
        }
      ]
    },
    {
      "cell_type": "code",
      "source": [
        "inputs = tf.keras.Input(shape=(180,180,3))\n",
        "\n",
        "x = base_model(inputs, training=False)\n",
        "\n",
        "x = tf.keras.layers.Flatten()(x)\n",
        "x = tf.keras.layers.Dense(256, activation='relu')(x)\n",
        "x = tf.keras.layers.Dropout(0.5)(x)\n",
        "outputs = tf.keras.layers.Dense(14, activation='softmax')(x)\n",
        "\n",
        "model = tf.keras.Model(inputs, outputs)"
      ],
      "metadata": {
        "id": "8Ikqqqll1LTm"
      },
      "execution_count": null,
      "outputs": []
    },
    {
      "cell_type": "code",
      "source": [
        "model.compile(optimizer = tf.keras.optimizers.Adam( learning_rate=0.0001),\n",
        "              loss = 'sparse_categorical_crossentropy',\n",
        "              metrics=['accuracy'])\n",
        "early = tf.keras.callbacks.EarlyStopping(monitor='val_loss', patience=3)\n",
        "model.summary()"
      ],
      "metadata": {
        "colab": {
          "base_uri": "https://localhost:8080/"
        },
        "id": "YjO00M2F10Iv",
        "outputId": "524f49fc-6a13-4cc8-bfe6-f74a9a8b1fd0"
      },
      "execution_count": null,
      "outputs": [
        {
          "output_type": "stream",
          "name": "stdout",
          "text": [
            "Model: \"model_1\"\n",
            "_________________________________________________________________\n",
            " Layer (type)                Output Shape              Param #   \n",
            "=================================================================\n",
            " input_4 (InputLayer)        [(None, 180, 180, 3)]     0         \n",
            "                                                                 \n",
            " resnet50 (Functional)       (None, 6, 6, 2048)        23587712  \n",
            "                                                                 \n",
            " flatten_1 (Flatten)         (None, 73728)             0         \n",
            "                                                                 \n",
            " dense_2 (Dense)             (None, 256)               18874624  \n",
            "                                                                 \n",
            " dropout_1 (Dropout)         (None, 256)               0         \n",
            "                                                                 \n",
            " dense_3 (Dense)             (None, 14)                3598      \n",
            "                                                                 \n",
            "=================================================================\n",
            "Total params: 42,465,934\n",
            "Trainable params: 18,878,222\n",
            "Non-trainable params: 23,587,712\n",
            "_________________________________________________________________\n"
          ]
        }
      ]
    },
    {
      "cell_type": "code",
      "source": [
        "model.fit(train_data, train_label, epochs = 10, validation_data=(test_data, test_label), batch_size= 125,callbacks=[early])"
      ],
      "metadata": {
        "colab": {
          "base_uri": "https://localhost:8080/"
        },
        "id": "CDd-80ZO220X",
        "outputId": "9efc5468-5136-4eb8-aeab-a923cafcd120"
      },
      "execution_count": null,
      "outputs": [
        {
          "output_type": "stream",
          "name": "stdout",
          "text": [
            "Epoch 1/10\n",
            "73/73 [==============================] - 54s 662ms/step - loss: 1.4270 - accuracy: 0.6183 - val_loss: 0.6631 - val_accuracy: 0.7998\n",
            "Epoch 2/10\n",
            "73/73 [==============================] - 46s 629ms/step - loss: 0.6292 - accuracy: 0.8051 - val_loss: 0.5852 - val_accuracy: 0.8282\n",
            "Epoch 3/10\n",
            "73/73 [==============================] - 46s 630ms/step - loss: 0.4128 - accuracy: 0.8647 - val_loss: 0.5846 - val_accuracy: 0.8295\n",
            "Epoch 4/10\n",
            "73/73 [==============================] - 46s 630ms/step - loss: 0.3021 - accuracy: 0.8999 - val_loss: 0.5724 - val_accuracy: 0.8366\n",
            "Epoch 5/10\n",
            "73/73 [==============================] - 46s 630ms/step - loss: 0.2183 - accuracy: 0.9248 - val_loss: 0.5626 - val_accuracy: 0.8437\n",
            "Epoch 6/10\n",
            "73/73 [==============================] - 46s 629ms/step - loss: 0.1741 - accuracy: 0.9416 - val_loss: 0.5978 - val_accuracy: 0.8423\n",
            "Epoch 7/10\n",
            "73/73 [==============================] - 47s 646ms/step - loss: 0.1369 - accuracy: 0.9554 - val_loss: 0.6134 - val_accuracy: 0.8401\n",
            "Epoch 8/10\n",
            "73/73 [==============================] - 46s 630ms/step - loss: 0.1110 - accuracy: 0.9624 - val_loss: 0.6100 - val_accuracy: 0.8419\n"
          ]
        },
        {
          "output_type": "execute_result",
          "data": {
            "text/plain": [
              "<keras.callbacks.History at 0x7f19e3ed3510>"
            ]
          },
          "metadata": {},
          "execution_count": 25
        }
      ]
    },
    {
      "cell_type": "code",
      "source": [],
      "metadata": {
        "id": "tIM-Pne73J9l"
      },
      "execution_count": null,
      "outputs": []
    }
  ]
}